{
 "cells": [
  {
   "cell_type": "code",
   "execution_count": null,
   "id": "0a88ddd7",
   "metadata": {},
   "outputs": [],
   "source": [
    "import os\n",
    "import cv2\n",
    "import numpy as np\n",
    "from skimage.feature import hog\n",
    "from sklearn.model_selection import train_test_split\n",
    "from sklearn.svm import LinearSVC\n",
    "from sklearn.metrics import classification_report, confusion_matrix, accuracy_score\n",
    "from datetime import datetime\n",
    "import joblib\n",
    "import matplotlib.pyplot as plt"
   ]
  },
  {
   "cell_type": "code",
   "execution_count": null,
   "id": "ff36ddef",
   "metadata": {
    "lines_to_next_cell": 1
   },
   "outputs": [],
   "source": [
    "# Ayarlar\n",
    "IMG_SIZE = 128\n",
    "DATASET_PATH = \"dataset\"\n",
    "CLASSES = [\"correct_mask\", \"incorrect_mask\"]\n",
    "LOG_FILE = \"results_log.txt\"\n",
    "MODEL_FILE = \"hog_svm_model.pkl\""
   ]
  },
  {
   "cell_type": "code",
   "execution_count": null,
   "id": "05ca080c",
   "metadata": {
    "lines_to_next_cell": 1
   },
   "outputs": [],
   "source": [
    "# HOG öznitelik çıkarımı\n",
    "def extract_hog_features(image):\n",
    "    features, _ = hog(image,\n",
    "                      orientations=9,\n",
    "                      pixels_per_cell=(8, 8),\n",
    "                      cells_per_block=(2, 2),\n",
    "                      block_norm='L2-Hys',\n",
    "                      visualize=True)\n",
    "    return features"
   ]
  },
  {
   "cell_type": "code",
   "execution_count": null,
   "id": "c333a419",
   "metadata": {},
   "outputs": [],
   "source": [
    "# Veri yükleme\n",
    "features = []\n",
    "labels = []"
   ]
  },
  {
   "cell_type": "code",
   "execution_count": null,
   "id": "25d130a1",
   "metadata": {},
   "outputs": [],
   "source": [
    "print(\"Görüntüler yükleniyor...\")\n",
    "for label, class_name in enumerate(CLASSES):\n",
    "    folder_path = os.path.join(DATASET_PATH, class_name)\n",
    "    for root, _, files in os.walk(folder_path):\n",
    "        for filename in files:\n",
    "            if filename.lower().endswith((\".jpg\", \".png\", \".jpeg\", \".bmp\")):\n",
    "                img_path = os.path.join(root, filename)\n",
    "                img = cv2.imread(img_path, cv2.IMREAD_GRAYSCALE)\n",
    "                if img is None:\n",
    "                    continue\n",
    "                img = cv2.resize(img, (IMG_SIZE, IMG_SIZE))\n",
    "                hog_feat = extract_hog_features(img)\n",
    "                features.append(hog_feat)\n",
    "                labels.append(label)"
   ]
  },
  {
   "cell_type": "code",
   "execution_count": null,
   "id": "3801c796",
   "metadata": {},
   "outputs": [],
   "source": [
    "# NumPy dizilerine çevir\n",
    "X = np.array(features)\n",
    "y = np.array(labels)"
   ]
  },
  {
   "cell_type": "code",
   "execution_count": null,
   "id": "c764df2e",
   "metadata": {},
   "outputs": [],
   "source": [
    "print(f\"Toplam örnek sayısı: {len(X)}\")\n",
    "if len(X) == 0:\n",
    "    print(\"Hiç görüntü yüklenemedi.\")\n",
    "    exit()"
   ]
  },
  {
   "cell_type": "code",
   "execution_count": null,
   "id": "ef82e7ce",
   "metadata": {},
   "outputs": [],
   "source": [
    "# Eğitim/test bölmesi\n",
    "X_train, X_test, y_train, y_test = train_test_split(\n",
    "    X, y, test_size=0.2, random_state=42)"
   ]
  },
  {
   "cell_type": "code",
   "execution_count": null,
   "id": "0ab29130",
   "metadata": {},
   "outputs": [],
   "source": [
    "# Modeli eğit\n",
    "print(\"Model eğitiliyor (LinearSVC)...\")\n",
    "model = LinearSVC()\n",
    "model.fit(X_train, y_train)"
   ]
  },
  {
   "cell_type": "code",
   "execution_count": null,
   "id": "c2b5eb62",
   "metadata": {},
   "outputs": [],
   "source": [
    "# Tahmin\n",
    "y_pred = model.predict(X_test)"
   ]
  },
  {
   "cell_type": "code",
   "execution_count": null,
   "id": "d71e5e61",
   "metadata": {},
   "outputs": [],
   "source": [
    "# Değerlendirme\n",
    "accuracy = accuracy_score(y_test, y_pred)\n",
    "report = classification_report(y_test, y_pred, target_names=CLASSES)\n",
    "conf_matrix = confusion_matrix(y_test, y_pred)"
   ]
  },
  {
   "cell_type": "code",
   "execution_count": null,
   "id": "362befcb",
   "metadata": {},
   "outputs": [],
   "source": [
    "# 📄 LOG dosyasına yaz\n",
    "with open(LOG_FILE, \"a\", encoding=\"utf-8\") as f:\n",
    "    f.write(\"=\" * 60 + \"\\n\")\n",
    "    f.write(f\"Toplam örnek: {len(X)}\\n\")\n",
    "    f.write(f\"Eğitim kümesi: {X_train.shape[0]} örnek\\n\")\n",
    "    f.write(f\"Test kümesi: {X_test.shape[0]} örnek\\n\")\n",
    "    f.write(f\"Model: HOG + LinearSVC\\n\")\n",
    "    f.write(f\"Doğruluk (accuracy): {accuracy:.4f}\\n\")\n",
    "    f.write(\"Classification Report:\\n\")\n",
    "    f.write(report + \"\\n\")\n",
    "    f.write(\"Confusion Matrix:\\n\")\n",
    "    f.write(np.array2string(conf_matrix) + \"\\n\")\n",
    "    f.write(\"=\" * 60 + \"\\n\\n\")"
   ]
  },
  {
   "cell_type": "code",
   "execution_count": null,
   "id": "614b8557",
   "metadata": {},
   "outputs": [],
   "source": [
    "print(\"Sonuçlar 'results_log.txt' dosyasına kaydedildi.\")"
   ]
  },
  {
   "cell_type": "code",
   "execution_count": null,
   "id": "0cbe816a",
   "metadata": {},
   "outputs": [],
   "source": [
    "# 💾 Modeli kaydet\n",
    "joblib.dump(model, MODEL_FILE)\n",
    "print(f\"Model '{MODEL_FILE}' dosyasına kaydedildi.\")"
   ]
  }
 ],
 "metadata": {
  "jupytext": {
   "cell_metadata_filter": "-all",
   "main_language": "python",
   "notebook_metadata_filter": "-all"
  }
 },
 "nbformat": 4,
 "nbformat_minor": 5
}
